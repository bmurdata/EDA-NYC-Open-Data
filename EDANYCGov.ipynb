{
  "nbformat": 4,
  "nbformat_minor": 0,
  "metadata": {
    "colab": {
      "name": "EDANYCGov.ipynb",
      "provenance": [],
      "collapsed_sections": [],
      "toc_visible": true,
      "authorship_tag": "ABX9TyNMlt8AOQ3SGjfWY6KSpyhM",
      "include_colab_link": true
    },
    "kernelspec": {
      "name": "python3",
      "display_name": "Python 3"
    },
    "language_info": {
      "name": "python"
    }
  },
  "cells": [
    {
      "cell_type": "markdown",
      "metadata": {
        "id": "view-in-github",
        "colab_type": "text"
      },
      "source": [
        "<a href=\"https://colab.research.google.com/github/bmurdata/EDA-NYC-Open-Data/blob/main/EDANYCGov.ipynb\" target=\"_parent\"><img src=\"https://colab.research.google.com/assets/colab-badge.svg\" alt=\"Open In Colab\"/></a>"
      ]
    },
    {
      "cell_type": "markdown",
      "metadata": {
        "id": "QgNUWJ0T1Th_"
      },
      "source": [
        "# EDA of NYC Government Employees\n",
        "### Titles, Unions, \\#'s and more"
      ]
    },
    {
      "cell_type": "markdown",
      "metadata": {
        "id": "L65EMGmcM_wp"
      },
      "source": [
        "## Introduction\n",
        "   The City of New York employs hundreds of thousands of workers, ranging from cusodians, analysts, police officers, and more. These titles in turn are represented by many different unions. Using the Open Data Portal and Socrata API, we will attempt to learn more about this workforce.\n",
        "   Datset can be found here: https://data.cityofnewyork.us/City-Government/NYC-Civil-Service-Titles/nzjr-3966"
      ]
    },
    {
      "cell_type": "markdown",
      "metadata": {
        "id": "DVmsgIj6N3qj"
      },
      "source": [
        "## Questions\n",
        "\n",
        "\n",
        "1.   How many titles are there?\n",
        "2.   How many unions are there?\n",
        "3.   How many titles are in each union?\n",
        "\n"
      ]
    },
    {
      "cell_type": "markdown",
      "metadata": {
        "id": "-Uw8uprRPB4B"
      },
      "source": [
        "## Open Data API Portal\n",
        "The Open Data Portal has free, public datasets related to NYC government. It makes its datasets available via the Socrata API. This is an API very similar to SQL.\n",
        "\n",
        "\n"
      ]
    },
    {
      "cell_type": "markdown",
      "metadata": {
        "id": "TFt62fvgxekQ"
      },
      "source": [
        "Today, we will look at two of them and build visualizations using Python Seaborn library, using Pandas and other data visualization tools."
      ]
    },
    {
      "cell_type": "markdown",
      "metadata": {
        "id": "R5sRjuZkCApT"
      },
      "source": [
        "Install dependencies if needed"
      ]
    },
    {
      "cell_type": "code",
      "metadata": {
        "id": "B1BWCOE_B_ZW"
      },
      "source": [
        "!pip install seaborn\n",
        "!pip install requests"
      ],
      "execution_count": null,
      "outputs": []
    },
    {
      "cell_type": "code",
      "metadata": {
        "id": "GoBJbG-91Ky7"
      },
      "source": [
        "import requests as req\n",
        "import seaborn as sns\n",
        "import json\n",
        "import pandas as pd\n",
        "import matplotlib.pyplot as plt"
      ],
      "execution_count": null,
      "outputs": []
    },
    {
      "cell_type": "code",
      "metadata": {
        "colab": {
          "base_uri": "https://localhost:8080/"
        },
        "id": "TsS2Wf6vBA2s",
        "outputId": "9868242d-5707-4f47-f932-5c213d220a0f"
      },
      "source": [
        "# Get our data from the NYC Open Data Portal site, and see the keys we can use to sort it\n",
        "\n",
        "url=\"https://data.cityofnewyork.us/resource/nzjr-3966.json\"\n",
        "offset=\"?$offset=\"\n",
        "myData=pd.read_json(url)\n",
        "for i in range(1,5):\n",
        "  myData=myData.append(pd.read_json(url+offset+str(i)+\"000\"))\n",
        "\n",
        "\n",
        "print(myData.keys())\n",
        "print(len(myData))\n",
        "print(myData.iloc[[0,-1]])\n",
        "# myData=req.get(url)\n",
        "# jsonData=myData.json()\n",
        "# jsonData[0]\n",
        "# print(type(jsonData))"
      ],
      "execution_count": null,
      "outputs": [
        {
          "output_type": "stream",
          "name": "stdout",
          "text": [
            "Index(['title', 'descr', 'std_hrs', 'asg_lvl', 'union_cd', 'union_descr',\n",
            "       'barg_unit', 'barg_descr', 'min_rate', 'max_rate'],\n",
            "      dtype='object')\n",
            "3023\n",
            "    title                           descr  ...  min_rate max_rate\n",
            "0   00031                           HCPPA  ...   42451.0  79294.0\n",
            "22  9POLL  ELECTION WORKER (PART-TIME)-BD  ...       1.0      1.0\n",
            "\n",
            "[2 rows x 10 columns]\n"
          ]
        }
      ]
    },
    {
      "cell_type": "code",
      "metadata": {
        "colab": {
          "base_uri": "https://localhost:8080/"
        },
        "id": "vLPaNHvGlG-S",
        "outputId": "625aa820-8f70-4e1e-b247-3e7187b26a13"
      },
      "source": [
        "# Overall totals\n",
        "print(\"There are :\"+ str(len(myData.barg_descr.value_counts()))+\" unions representing 3023 titles\")\n",
        "print(\"There are :\"+ str(len(myData.descr.value_counts()))+\" titles with the same description out of 3023 titles\")"
      ],
      "execution_count": null,
      "outputs": [
        {
          "output_type": "stream",
          "name": "stdout",
          "text": [
            "There are :44 unions representing 3023 titles\n",
            "There are :2105 titles with the same description out of 3023 titles\n"
          ]
        }
      ]
    },
    {
      "cell_type": "code",
      "metadata": {
        "colab": {
          "base_uri": "https://localhost:8080/",
          "height": 436
        },
        "id": "iELCAeYWr08U",
        "outputId": "84281858-efab-4c95-c6b3-bd20c9eaf265"
      },
      "source": [
        "# Top 5 title descriptions\n",
        "\n",
        "# Shows how we can manipulate the data\n",
        "fig_dims = (10, 5)\n",
        "fig, ax = plt.subplots(figsize=fig_dims)\n",
        "print(myData.descr.value_counts().iloc[:5])\n",
        "plot=sns.countplot(y=myData.descr,order=myData.descr.value_counts().iloc[:5].index,ax=ax) #hue=myData.barg_descr\n",
        "\n",
        "plt.show()\n"
      ],
      "execution_count": null,
      "outputs": [
        {
          "output_type": "stream",
          "name": "stdout",
          "text": [
            "EXECUTIVE PROGRAM SPECIALIST (    22\n",
            "INVESTIGATOR (EMPLOYEE DISCIPL    21\n",
            "STRATEGIC INITIATIVE SPECIALIS    20\n",
            "CONFIDENTIAL STRATEGY PLANNER     14\n",
            "EXECUTIVE ASSISTANT TO THE COM    12\n",
            "Name: descr, dtype: int64\n"
          ]
        },
        {
          "output_type": "display_data",
          "data": {
            "image/png": "[encoded data removed]",
            "text/plain": [
              "<Figure size 720x360 with 1 Axes>"
            ]
          },
          "metadata": {
            "needs_background": "light"
          }
        }
      ]
    },
    {
      "cell_type": "code",
      "metadata": {
        "colab": {
          "base_uri": "https://localhost:8080/",
          "height": 436
        },
        "id": "jCqJG_nEiU_i",
        "outputId": "85c8fcee-0f70-406c-b023-97675aa87818"
      },
      "source": [
        "# Top five unions\n",
        "\n",
        "fig_dims = (10, 5)\n",
        "fig, ax = plt.subplots(figsize=fig_dims)\n",
        "print(myData.barg_descr.value_counts().iloc[:5])\n",
        "sns.countplot(y=myData.barg_descr,order=myData.barg_descr.value_counts().iloc[:5].index,ax=ax) #hue=myData.barg_descr\n",
        "plt.show()\n"
      ],
      "execution_count": null,
      "outputs": [
        {
          "output_type": "stream",
          "name": "stdout",
          "text": [
            "Non-Union                         1502\n",
            "District Council 37                839\n",
            "Intl Brotherhood of Teamsters      137\n",
            "Communication Wrkrs of America      85\n",
            "Service Employees Int'l Union       83\n",
            "Name: barg_descr, dtype: int64\n"
          ]
        },
        {
          "output_type": "display_data",
          "data": {
            "image/png": "[encoded data removed]",
            "text/plain": [
              "<Figure size 720x360 with 1 Axes>"
            ]
          },
          "metadata": {
            "needs_background": "light"
          }
        }
      ]
    },
    {
      "cell_type": "code",
      "metadata": {
        "colab": {
          "base_uri": "https://localhost:8080/"
        },
        "id": "CHPiOhKemMZ1",
        "outputId": "6b1105ca-460d-4be9-a089-c807f7c1b7cd"
      },
      "source": [
        "myData.descr.value_counts()"
      ],
      "execution_count": null,
      "outputs": [
        {
          "output_type": "execute_result",
          "data": {
            "text/plain": [
              "EXECUTIVE PROGRAM SPECIALIST (    22\n",
              "INVESTIGATOR (EMPLOYEE DISCIPL    21\n",
              "STRATEGIC INITIATIVE SPECIALIS    20\n",
              "CONFIDENTIAL STRATEGY PLANNER     14\n",
              "EXECUTIVE ASSISTANT TO THE COM    12\n",
              "                                  ..\n",
              "DIRECTOR OF PERSONNEL (HA)         1\n",
              "PRINCIPAL TITLE EXAMINER           1\n",
              "SUPERVISOR DOCKBUILDER             1\n",
              "DIRECTOR OF THE CITY RECORD (D     1\n",
              "ADMINISTRATIVE SPACE ANALYST (     1\n",
              "Name: descr, Length: 2105, dtype: int64"
            ]
          },
          "metadata": {},
          "execution_count": 72
        }
      ]
    },
    {
      "cell_type": "code",
      "metadata": {
        "colab": {
          "base_uri": "https://localhost:8080/"
        },
        "id": "2MEQSPE-kTlO",
        "outputId": "ca638695-aebc-481d-a791-b4ec5b6044d2"
      },
      "source": [
        "# Totals list\n",
        "myData.barg_descr.value_counts()"
      ],
      "execution_count": null,
      "outputs": [
        {
          "output_type": "execute_result",
          "data": {
            "text/plain": [
              "Non-Union                         1502\n",
              "District Council 37                839\n",
              "Intl Brotherhood of Teamsters      137\n",
              "Communication Wrkrs of America      85\n",
              "Service Employees Int'l Union       83\n",
              "Intl Union ofOpertg Engineers       60\n",
              "Organization of Staff Analysts      45\n",
              "Doctors Council Clinicians          39\n",
              "United Federation of Teachers       30\n",
              "Intl Brthd of Electrical Wrkrs      30\n",
              "New York State Nurses Assoc         21\n",
              "Marine EngineersBeneficialAssn      10\n",
              "Captains Endowment Association       9\n",
              "Patrolmen's Bnvlnt Assoc of DA       9\n",
              "Alliance ofTheatrical&StageEEs       9\n",
              "District Council 9                   8\n",
              "Probation Officer United Assoc       8\n",
              "United Marine Division-L333ILA       8\n",
              "UnitedBrthd of Crptrs&Joiners        8\n",
              "Nat'l U/Hospital&Healthcare EE       7\n",
              "Uniformed Fire Officers Assoc        7\n",
              "Plumbers                             7\n",
              "Pavers & Road Builders DC            6\n",
              "Lodge 5                              5\n",
              "SEIU / DC37                          4\n",
              "NYC Deputy Sheriffs Assocation       4\n",
              "Detectives EndowmentAssocation       4\n",
              "Campaign Workers Guild               4\n",
              "Lieutenants Benevolent Assoc         4\n",
              "Association of Legislative Emp       3\n",
              "Steamfitters Plumbers                3\n",
              "Sergeants BenevolentAssocation       3\n",
              "Assistant Deputy Wardens Assoc       3\n",
              "Uniformed Firefighters Assoc         3\n",
              "Fire Alarm Dispatchers Bnvlnt        3\n",
              "Bridge&Structural Iron Workers       2\n",
              "OpertgEnginrs/SrvEEs-IUOE/SEIU       2\n",
              "Sanitation Officers Assocation       2\n",
              "Patrolmen's Benevolent Assoc.        2\n",
              "United Sanitation Chiefs Assoc       1\n",
              "EMS Chiefs                           1\n",
              "Correction Captains Assocation       1\n",
              "United Sanitation Workers            1\n",
              "CorrectionOfficers BnvlntAssoc       1\n",
              "Name: barg_descr, dtype: int64"
            ]
          },
          "metadata": {},
          "execution_count": 71
        }
      ]
    }
  ]
}